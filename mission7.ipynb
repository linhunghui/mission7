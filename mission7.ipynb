{
 "cells": [
  {
   "cell_type": "code",
   "execution_count": 4,
   "metadata": {},
   "outputs": [
    {
     "name": "stdout",
     "output_type": "stream",
     "text": [
      " * Serving Flask app \"__main__\" (lazy loading)\n",
      " * Environment: production\n",
      "   WARNING: Do not use the development server in a production environment.\n",
      "   Use a production WSGI server instead.\n",
      " * Debug mode: off\n"
     ]
    },
    {
     "name": "stderr",
     "output_type": "stream",
     "text": [
      " * Running on http://0.0.0.0:5000/ (Press CTRL+C to quit)\n",
      "10.120.23.19 - - [08/Jan/2019 21:27:21] \"GET /?id=222 HTTP/1.1\" 200 -\n",
      "10.120.23.19 - - [08/Jan/2019 21:27:29] \"GET /?id=333 HTTP/1.1\" 200 -\n"
     ]
    }
   ],
   "source": [
    "#引用套件\n",
    "from flask import Flask, request, abort, jsonify\n",
    "\n",
    "\n",
    "#設置app啟動點\n",
    "app = Flask(__name__,static_url_path = \"/images\" , static_folder = \"./images/\" )\n",
    "\n",
    "\n",
    "\n",
    "#定義app訪問路徑/及用戶能對此端口用get方法訪問\n",
    "@app.route('/',methods=['GET'])\n",
    "\n",
    "\n",
    "def hello_world():\n",
    "    #用戶能對此端口用GET方法訪問\n",
    "    #並且挾帶query string， id=xxx\n",
    "    t = request.args.get('id')\n",
    "    #若用戶傳入 id=123，則傳回json  {\"userId\":123}\n",
    "    jsonDict = {'userId':t}\n",
    "    return jsonify(jsonDict)\n",
    "\n",
    "\n",
    "#啟用app(為user設計一個端口，win10記得去防火牆設定port規則)\n",
    "if __name__ == \"__main__\":\n",
    "    app.run(host='0.0.0.0',port='5000')"
   ]
  },
  {
   "cell_type": "code",
   "execution_count": null,
   "metadata": {},
   "outputs": [],
   "source": []
  }
 ],
 "metadata": {
  "kernelspec": {
   "display_name": "Python 3",
   "language": "python",
   "name": "python3"
  },
  "language_info": {
   "codemirror_mode": {
    "name": "ipython",
    "version": 3
   },
   "file_extension": ".py",
   "mimetype": "text/x-python",
   "name": "python",
   "nbconvert_exporter": "python",
   "pygments_lexer": "ipython3",
   "version": "3.7.2"
  }
 },
 "nbformat": 4,
 "nbformat_minor": 2
}
